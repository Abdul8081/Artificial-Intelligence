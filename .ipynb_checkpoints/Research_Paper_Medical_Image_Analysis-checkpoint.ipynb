{
 "cells": [
  {
   "cell_type": "markdown",
   "id": "f36a34a2-67e0-475d-81af-55aa8d7c8277",
   "metadata": {},
   "source": [
    "# 18th March\n",
    "\n",
    "1. Explore CNN(Convolution Neural Network)"
   ]
  },
  {
   "cell_type": "markdown",
   "id": "3d4f15f9-779a-4009-b58a-c445bddb5b9b",
   "metadata": {},
   "source": [
    "# 20 March\n",
    "\n",
    "## Docker\n",
    "Docke automate the mangement of the application, deployment and scaling with the containerization. \n",
    "\n",
    "Containerization involves easyfyig if the different application to run on a single host machine.\n",
    "\n",
    "Mainly Docker hepls in the fasten the services like the software development, but it lacks the security things, as it is not maintaining the things like the Virtual Environment. Docker does this by encapsulating all these into different containers. \n",
    "\n",
    "Process of building, running, and sharing in the container while maintaining the consistency, docker does easify this. \n",
    "If required then do explore this things. \n",
    "\n",
    "## python \n",
    "1. It is known as the scientific tongue in terms of the programming language\n",
    "2. Pythong is easy as lot's of it's things is just as the simple Engligh. \n",
    "3. It has the strong community, can get help faster\n",
    "4. It has several libraries, which can be used for different purposes\n",
    "5. It has only the strorge problem, which it takes more while comparing with the other programming lang. as all it's libraries have been constructed with the help of the C or C++ language, also for storing any things related it uses lot't of the information along with.\n",
    "6.  It include libraries such as, cv2, skickit, for the image processing, matplotlib for ploting and all that.\n",
    "7.  Python is very useful for the matlab.\n",
    "\n",
    "## Pythong Basics and IDE\n",
    "IDE is the Integrated Development Environment, which makes easify all the things related to doing stuffs related to the programming\n",
    "As per the python, Best is : Jupyter NoteBook, Anaconda Spyder, VS Code. After that just somethings Basics of the Python, Internally python takes all the things int, float, as the input and try to represent in the base 2 formate. Due to this some issue come in the operationg with the floating point number which I am going to illustrate in the another section. "
   ]
  },
  {
   "cell_type": "code",
   "execution_count": 7,
   "id": "b4222adc-107c-498e-9253-09088af7c719",
   "metadata": {},
   "outputs": [
    {
     "data": {
      "text/plain": [
       "0.1"
      ]
     },
     "execution_count": 7,
     "metadata": {},
     "output_type": "execute_result"
    }
   ],
   "source": [
    "# Some Issue with the Floating point numbers \n",
    "1/10\n",
    "# In this may be printed value is look like 0.1 but actually it is stored as the 0.00000000000000000001\n"
   ]
  },
  {
   "cell_type": "code",
   "execution_count": 8,
   "id": "0ba974a7-739d-4049-9eaa-90144b54362c",
   "metadata": {},
   "outputs": [
    {
     "data": {
      "text/plain": [
       "False"
      ]
     },
     "execution_count": 8,
     "metadata": {},
     "output_type": "execute_result"
    }
   ],
   "source": [
    "0.1 + 0.1 + 0.1 == 0.3"
   ]
  },
  {
   "cell_type": "code",
   "execution_count": 11,
   "id": "68ded9b1-c12e-4e54-9783-993c27d27965",
   "metadata": {},
   "outputs": [
    {
     "data": {
      "text/plain": [
       "0.30000000000000004"
      ]
     },
     "execution_count": 11,
     "metadata": {},
     "output_type": "execute_result"
    }
   ],
   "source": [
    "0.1 + 0.1 + 0.1 "
   ]
  },
  {
   "cell_type": "code",
   "execution_count": 9,
   "id": "55aac614-973b-456b-b1b1-bdad77b9ecd6",
   "metadata": {},
   "outputs": [
    {
     "name": "stdin",
     "output_type": "stream",
     "text": [
      "Enter number :  -4\n"
     ]
    },
    {
     "name": "stdout",
     "output_type": "stream",
     "text": [
      "-4 is Negative Integer\n"
     ]
    }
   ],
   "source": [
    "m = int(input(\"Enter number : \"))\n",
    "if(m >= 0):\n",
    "    if(m==0):\n",
    "        print(\"%d is Zero\" %m)\n",
    "    else:\n",
    "        print(\"%d is Positive Integer\" %m)\n",
    "\n",
    "else:\n",
    "    print(\"%d is Negative Integer\" %m)\n",
    "\n"
   ]
  },
  {
   "cell_type": "markdown",
   "id": "477456c9-b916-4332-9a2e-886af15ebf15",
   "metadata": {},
   "source": [
    "# 21 March\n",
    "\n",
    "## List, Tuple, Dictionary\n",
    "Few things about all of these\n",
    "List : \n",
    "1. It is the mutable, we can do change it's inplace\n",
    "2. It's just like the array of the c++, It support negative indexing, It support nice slicing concept.  \n",
    "3. It's include lot's of things in it. go explore this.\n",
    "\n",
    "Tuple : \n",
    "1. All operation of the list can be done on this, except the case that it is mutable\n",
    "2. tuple can't be the key of the dictionary,  It can be used if it only contain, integer, tuple or string\n",
    "3. It can be changes into the list and viceversa\n",
    "4. All the operation will be happen on tuple to tuple, it can be add like tuple and list\n",
    "5. tuple can be initialise in three method which I will include below.\n",
    "6. If addition of the two tuple is being done, then it will not add in the original one, instead it will create a new copy of that, then it add, see the example below of this.\n",
    "7. In this, there comes a concept of the singleton\n",
    "8. when size is one, and done initialize with the trailing comma, then this is the special case of the tuple\n",
    "\n",
    "## Dictionaly\n",
    "1. It's key always immutable,\n",
    "2. tuple as the key with the special case which I have stated above\n",
    "\n",
    "   ### All Immutables in the python\n",
    "   1. Number type: int, float\n",
    "   2. string type: set, string, fronzenset\n",
    "   3. Ellipse: ...\n",
    "   4. Other types: byte, NoneType, etc"
   ]
  },
  {
   "cell_type": "code",
   "execution_count": 36,
   "id": "f7f71d82-7b09-47ec-aa25-fe52e3a8dc25",
   "metadata": {},
   "outputs": [
    {
     "data": {
      "text/plain": [
       "3"
      ]
     },
     "execution_count": 36,
     "metadata": {},
     "output_type": "execute_result"
    }
   ],
   "source": [
    "a = ()\n",
    "type(a)\n",
    "\n",
    "b = 1,2,3\n",
    "len(b)\n",
    "\n",
    "# a = 'hello',\n",
    "# len(a) => 1 it does not matter if we have include a comma after the last element"
   ]
  },
  {
   "cell_type": "code",
   "execution_count": 4,
   "id": "759cc719-ffa4-4b4c-af65-af596ee6f8f0",
   "metadata": {},
   "outputs": [],
   "source": [
    "squares = list(map(lambda x : x**2 , range(10)))"
   ]
  },
  {
   "cell_type": "code",
   "execution_count": 5,
   "id": "a8aa50ac-3676-46c0-9cae-834b20e55c54",
   "metadata": {},
   "outputs": [
    {
     "data": {
      "text/plain": [
       "[0, 1, 4, 9, 16, 25, 36, 49, 64, 81]"
      ]
     },
     "execution_count": 5,
     "metadata": {},
     "output_type": "execute_result"
    }
   ],
   "source": [
    "squares"
   ]
  },
  {
   "cell_type": "code",
   "execution_count": 6,
   "id": "2c81e150-a133-4424-b5b0-5fe5d0025f09",
   "metadata": {},
   "outputs": [
    {
     "data": {
      "text/plain": [
       "[0, 1, 4, 9, 16, 25, 36, 49, 64, 81]"
      ]
     },
     "execution_count": 6,
     "metadata": {},
     "output_type": "execute_result"
    }
   ],
   "source": [
    "[x**2 for x in range(10)]"
   ]
  },
  {
   "cell_type": "code",
   "execution_count": 9,
   "id": "0cbd756b-9f85-4d55-97dc-3ae733986428",
   "metadata": {},
   "outputs": [
    {
     "data": {
      "text/plain": [
       "[(1, 3), (1, 4), (1, 5), (2, 3), (2, 4), (2, 5), (3, 4), (3, 5)]"
      ]
     },
     "execution_count": 9,
     "metadata": {},
     "output_type": "execute_result"
    }
   ],
   "source": [
    "[(x,y) for x in [1,2,3] for y in [3,4,5] if x!=y]"
   ]
  },
  {
   "cell_type": "code",
   "execution_count": 17,
   "id": "5d191d48-32ae-47d2-ba32-e0b79afa3622",
   "metadata": {},
   "outputs": [
    {
     "data": {
      "text/plain": [
       "[1, 3, 4, 4, 5]"
      ]
     },
     "execution_count": 17,
     "metadata": {},
     "output_type": "execute_result"
    }
   ],
   "source": [
    "## Filtering the negative number\n",
    "[x for x in [1,3,4,-3,-5,4,5,-9] if x>=0]"
   ]
  },
  {
   "cell_type": "code",
   "execution_count": 41,
   "id": "d156c77e-7507-41d2-bc5f-2239eb33fc9c",
   "metadata": {},
   "outputs": [
    {
     "data": {
      "text/plain": [
       "[1, 2, 3, 4, 5, 5, 6, 3, 2]"
      ]
     },
     "execution_count": 41,
     "metadata": {},
     "output_type": "execute_result"
    }
   ],
   "source": [
    "v = [[1,2,3],[4,5,5],[6,3,2]]\n",
    "[number for elem in v for number in elem]"
   ]
  },
  {
   "cell_type": "code",
   "execution_count": 21,
   "id": "9450c075-ee77-4c50-800f-c8ecda9b2d16",
   "metadata": {},
   "outputs": [
    {
     "data": {
      "text/plain": [
       "(1, 2, 3)"
      ]
     },
     "execution_count": 21,
     "metadata": {},
     "output_type": "execute_result"
    }
   ],
   "source": [
    "#tupel example\n",
    "a = (1,2,3)\n",
    "a"
   ]
  },
  {
   "cell_type": "code",
   "execution_count": 23,
   "id": "19818db0-f2f8-4449-b837-b3557338de0e",
   "metadata": {},
   "outputs": [
    {
     "data": {
      "text/plain": [
       "tuple"
      ]
     },
     "execution_count": 23,
     "metadata": {},
     "output_type": "execute_result"
    }
   ],
   "source": [
    "a = 2, 3, 4\n",
    "type(a)"
   ]
  },
  {
   "cell_type": "code",
   "execution_count": 24,
   "id": "bdc5554f-c5e1-4a89-bd72-1f0789b24f20",
   "metadata": {},
   "outputs": [],
   "source": [
    "z,b,c = a"
   ]
  },
  {
   "cell_type": "code",
   "execution_count": 27,
   "id": "027aed27-2231-4df7-9f32-0a7f13fd269f",
   "metadata": {},
   "outputs": [
    {
     "name": "stdout",
     "output_type": "stream",
     "text": [
      "2 3 4 <class 'int'>\n"
     ]
    }
   ],
   "source": [
    "print(z, b, c, type(z))"
   ]
  },
  {
   "cell_type": "code",
   "execution_count": 42,
   "id": "04de821b-2402-4d27-a2d1-79e04433f603",
   "metadata": {},
   "outputs": [
    {
     "data": {
      "text/plain": [
       "{1, 4, 6, 7, 8, 10}"
      ]
     },
     "execution_count": 42,
     "metadata": {},
     "output_type": "execute_result"
    }
   ],
   "source": [
    "a = {1,2,3,4,5}\n",
    "b = {5,6,7,8,3,2,10}\n",
    "\n",
    "a ^ b  #letter in a and b but not in common. "
   ]
  },
  {
   "cell_type": "markdown",
   "id": "ff81a3d4-026b-408f-be74-9fe9edff9c86",
   "metadata": {},
   "source": [
    "# Numpy\n",
    "#### If required then explore documentation of the numpy. \n",
    "Numpy on converting the list in the numpy array, modified array will be of type numpy.ndarray, but it's shape will be represented by tuple. \n",
    "\n",
    "For the slicing use the trick -> a[1:3] means have to start from 1 and of lengthe 3 - 1\n",
    "\n",
    "In this Multiplication of the matrix is not the actuall matrix multiplication, Instead, Element wise multiplication happened"
   ]
  },
  {
   "cell_type": "code",
   "execution_count": 69,
   "id": "c98ff323-c7ea-44f7-aaea-b7b6744d8667",
   "metadata": {},
   "outputs": [
    {
     "data": {
      "text/plain": [
       "array([[ 3, 10],\n",
       "       [ 9,  8]])"
      ]
     },
     "execution_count": 69,
     "metadata": {},
     "output_type": "execute_result"
    }
   ],
   "source": [
    "import numpy as np\n",
    "a = [1,2,4]\n",
    "b = np.array(a)\n",
    "# type(b)\n",
    "np.shape(b) # this is giving shape as tuple\n",
    "\n",
    "a = np.array([[1,2],\n",
    "              [3,4]])\n",
    "b = np.array([[3,5],\n",
    "              [3,2]])\n",
    "\n",
    "c = np.multiply(a,b)\n",
    "c"
   ]
  },
  {
   "cell_type": "code",
   "execution_count": 66,
   "id": "5a285b8b-6df0-4917-9dd8-a967b63bcd03",
   "metadata": {},
   "outputs": [
    {
     "data": {
      "text/plain": [
       "array([4, 6])"
      ]
     },
     "execution_count": 66,
     "metadata": {},
     "output_type": "execute_result"
    }
   ],
   "source": [
    "np.sum(a, axis=0)  #going through the column, from top to bottom"
   ]
  },
  {
   "cell_type": "code",
   "execution_count": 67,
   "id": "493a6a49-4297-46a5-8f5c-172437627375",
   "metadata": {},
   "outputs": [
    {
     "data": {
      "text/plain": [
       "array([8, 5])"
      ]
     },
     "execution_count": 67,
     "metadata": {},
     "output_type": "execute_result"
    }
   ],
   "source": [
    "np.sum(b, axis=1) #It is going through the row, and adding each element of the row|"
   ]
  },
  {
   "cell_type": "markdown",
   "id": "aafa24eb-7a1f-4920-9137-eebb4bc5ac45",
   "metadata": {},
   "source": [
    "# Image Processing Exploration / Tools \n",
    "#### there are alot of the libraries which is used to do stuffs with the images some of them are : \n",
    "1. OpenCV and Pillow/PIL : which is good for the normal Image processing stuffs\n",
    "2. SciKit-Image : good for the research work\n",
    "3. SimpleITK : Best for the Medical Image analysation. "
   ]
  },
  {
   "cell_type": "code",
   "execution_count": 2,
   "id": "bed8c920-b047-4bec-b827-65eb5f5a7cb0",
   "metadata": {},
   "outputs": [
    {
     "name": "stdout",
     "output_type": "stream",
     "text": [
      "Collecting SimpleITK\n",
      "  Downloading SimpleITK-2.4.1-cp311-abi3-win_amd64.whl.metadata (8.0 kB)\n",
      "Downloading SimpleITK-2.4.1-cp311-abi3-win_amd64.whl (18.7 MB)\n",
      "   ---------------------------------------- 0.0/18.7 MB ? eta -:--:--\n",
      "   ---------------------------------------- 0.0/18.7 MB 640.0 kB/s eta 0:00:30\n",
      "   ---------------------------------------- 0.1/18.7 MB 1.5 MB/s eta 0:00:13\n",
      "    --------------------------------------- 0.3/18.7 MB 2.5 MB/s eta 0:00:08\n",
      "   - -------------------------------------- 0.8/18.7 MB 5.0 MB/s eta 0:00:04\n",
      "   -- ------------------------------------- 1.1/18.7 MB 5.1 MB/s eta 0:00:04\n",
      "   --- ------------------------------------ 1.6/18.7 MB 6.3 MB/s eta 0:00:03\n",
      "   ---- ----------------------------------- 2.1/18.7 MB 7.0 MB/s eta 0:00:03\n",
      "   ---- ----------------------------------- 2.1/18.7 MB 7.0 MB/s eta 0:00:03\n",
      "   ---- ----------------------------------- 2.1/18.7 MB 7.0 MB/s eta 0:00:03\n",
      "   ---- ----------------------------------- 2.1/18.7 MB 7.0 MB/s eta 0:00:03\n",
      "   ----- ---------------------------------- 2.3/18.7 MB 4.8 MB/s eta 0:00:04\n",
      "   ------ --------------------------------- 2.9/18.7 MB 5.4 MB/s eta 0:00:03\n",
      "   ------- -------------------------------- 3.5/18.7 MB 6.0 MB/s eta 0:00:03\n",
      "   -------- ------------------------------- 4.0/18.7 MB 6.4 MB/s eta 0:00:03\n",
      "   --------- ------------------------------ 4.6/18.7 MB 6.8 MB/s eta 0:00:03\n",
      "   ---------- ----------------------------- 5.1/18.7 MB 7.1 MB/s eta 0:00:02\n",
      "   ----------- ---------------------------- 5.3/18.7 MB 6.9 MB/s eta 0:00:02\n",
      "   ------------ --------------------------- 5.8/18.7 MB 7.2 MB/s eta 0:00:02\n",
      "   ------------- -------------------------- 6.4/18.7 MB 7.4 MB/s eta 0:00:02\n",
      "   -------------- ------------------------- 6.9/18.7 MB 7.6 MB/s eta 0:00:02\n",
      "   --------------- ------------------------ 7.3/18.7 MB 7.8 MB/s eta 0:00:02\n",
      "   --------------- ------------------------ 7.3/18.7 MB 7.8 MB/s eta 0:00:02\n",
      "   ---------------- ----------------------- 7.8/18.7 MB 7.5 MB/s eta 0:00:02\n",
      "   ----------------- ---------------------- 8.4/18.7 MB 7.6 MB/s eta 0:00:02\n",
      "   ------------------- -------------------- 8.9/18.7 MB 7.8 MB/s eta 0:00:02\n",
      "   -------------------- ------------------- 9.5/18.7 MB 8.0 MB/s eta 0:00:02\n",
      "   -------------------- ------------------- 9.7/18.7 MB 8.0 MB/s eta 0:00:02\n",
      "   --------------------- ------------------ 10.2/18.7 MB 7.9 MB/s eta 0:00:02\n",
      "   ---------------------- ----------------- 10.5/18.7 MB 8.6 MB/s eta 0:00:01\n",
      "   ---------------------- ----------------- 10.5/18.7 MB 8.6 MB/s eta 0:00:01\n",
      "   ---------------------- ----------------- 10.5/18.7 MB 8.6 MB/s eta 0:00:01\n",
      "   ---------------------- ----------------- 10.5/18.7 MB 8.6 MB/s eta 0:00:01\n",
      "   ---------------------- ----------------- 10.5/18.7 MB 8.6 MB/s eta 0:00:01\n",
      "   ---------------------- ----------------- 10.5/18.7 MB 8.6 MB/s eta 0:00:01\n",
      "   ---------------------- ----------------- 10.5/18.7 MB 8.6 MB/s eta 0:00:01\n",
      "   ---------------------- ----------------- 10.5/18.7 MB 8.6 MB/s eta 0:00:01\n",
      "   ---------------------- ----------------- 10.5/18.7 MB 8.6 MB/s eta 0:00:01\n",
      "   ---------------------- ----------------- 10.5/18.7 MB 8.6 MB/s eta 0:00:01\n",
      "   ---------------------- ----------------- 10.5/18.7 MB 8.6 MB/s eta 0:00:01\n",
      "   ---------------------- ----------------- 10.5/18.7 MB 8.6 MB/s eta 0:00:01\n",
      "   ---------------------- ----------------- 10.5/18.7 MB 8.6 MB/s eta 0:00:01\n",
      "   ---------------------- ----------------- 10.5/18.7 MB 8.6 MB/s eta 0:00:01\n",
      "   ---------------------- ----------------- 10.5/18.7 MB 8.6 MB/s eta 0:00:01\n",
      "   ---------------------- ----------------- 10.5/18.7 MB 8.6 MB/s eta 0:00:01\n",
      "   ---------------------- ----------------- 10.5/18.7 MB 8.6 MB/s eta 0:00:01\n",
      "   ----------------------- ---------------- 11.0/18.7 MB 5.2 MB/s eta 0:00:02\n",
      "   ------------------------ --------------- 11.6/18.7 MB 5.3 MB/s eta 0:00:02\n",
      "   -------------------------- ------------- 12.1/18.7 MB 5.3 MB/s eta 0:00:02\n",
      "   --------------------------- ------------ 12.7/18.7 MB 5.8 MB/s eta 0:00:02\n",
      "   ---------------------------- ----------- 13.2/18.7 MB 5.8 MB/s eta 0:00:01\n",
      "   ---------------------------- ----------- 13.5/18.7 MB 5.7 MB/s eta 0:00:01\n",
      "   ----------------------------- ---------- 13.8/18.7 MB 5.7 MB/s eta 0:00:01\n",
      "   ------------------------------ --------- 14.4/18.7 MB 5.7 MB/s eta 0:00:01\n",
      "   -------------------------------- ------- 14.9/18.7 MB 5.7 MB/s eta 0:00:01\n",
      "   --------------------------------- ------ 15.4/18.7 MB 5.7 MB/s eta 0:00:01\n",
      "   --------------------------------- ------ 15.7/18.7 MB 5.7 MB/s eta 0:00:01\n",
      "   ---------------------------------- ----- 15.9/18.7 MB 5.6 MB/s eta 0:00:01\n",
      "   ----------------------------------- ---- 16.4/18.7 MB 5.6 MB/s eta 0:00:01\n",
      "   ------------------------------------ --- 17.0/18.7 MB 5.6 MB/s eta 0:00:01\n",
      "   ------------------------------------- -- 17.6/18.7 MB 5.6 MB/s eta 0:00:01\n",
      "   -------------------------------------- - 17.8/18.7 MB 5.8 MB/s eta 0:00:01\n",
      "   -------------------------------------- - 17.8/18.7 MB 5.8 MB/s eta 0:00:01\n",
      "   ---------------------------------------  18.3/18.7 MB 5.5 MB/s eta 0:00:01\n",
      "   ---------------------------------------  18.7/18.7 MB 5.5 MB/s eta 0:00:01\n",
      "   ---------------------------------------- 18.7/18.7 MB 5.4 MB/s eta 0:00:00\n",
      "Installing collected packages: SimpleITK\n",
      "Successfully installed SimpleITK-2.4.1\n"
     ]
    },
    {
     "name": "stderr",
     "output_type": "stream",
     "text": [
      "\n",
      "[notice] A new release of pip is available: 24.0 -> 25.0.1\n",
      "[notice] To update, run: python.exe -m pip install --upgrade pip\n"
     ]
    }
   ],
   "source": [
    "# SimpleITK Tool -> Image processing tool for the medical analysation\n",
    "!pip install SimpleITK"
   ]
  },
  {
   "cell_type": "code",
   "execution_count": 4,
   "id": "56f52c7c-0fea-4ac6-8b21-4d0e9e362909",
   "metadata": {},
   "outputs": [
    {
     "name": "stdout",
     "output_type": "stream",
     "text": [
      "Requirement already satisfied: pip in c:\\users\\abdul muid\\onedrive\\desktop\\numpy\\after_mid\\lib\\site-packages (24.0)Note: you may need to restart the kernel to use updated packages.\n",
      "\n",
      "Collecting pip\n",
      "  Downloading pip-25.0.1-py3-none-any.whl.metadata (3.7 kB)\n",
      "Downloading pip-25.0.1-py3-none-any.whl (1.8 MB)\n",
      "   ---------------------------------------- 0.0/1.8 MB ? eta -:--:--\n",
      "   ---------------------------------------- 0.0/1.8 MB ? eta -:--:--\n",
      "   -- ------------------------------------- 0.1/1.8 MB 1.5 MB/s eta 0:00:02\n",
      "   ------ --------------------------------- 0.3/1.8 MB 2.6 MB/s eta 0:00:01\n",
      "   ----------------- ---------------------- 0.8/1.8 MB 5.1 MB/s eta 0:00:01\n",
      "   ------------------------ --------------- 1.1/1.8 MB 5.5 MB/s eta 0:00:01\n",
      "   ----------------------------------- ---- 1.6/1.8 MB 6.6 MB/s eta 0:00:01\n",
      "   ---------------------------------------- 1.8/1.8 MB 6.5 MB/s eta 0:00:00\n",
      "Installing collected packages: pip\n",
      "  Attempting uninstall: pip\n",
      "    Found existing installation: pip 24.0\n",
      "    Uninstalling pip-24.0:\n",
      "      Successfully uninstalled pip-24.0\n",
      "Successfully installed pip-25.0.1\n"
     ]
    }
   ],
   "source": [
    "pip install --upgrade pip"
   ]
  },
  {
   "cell_type": "code",
   "execution_count": 6,
   "id": "fead3546-420b-4aeb-ae56-9280c3c2ca3b",
   "metadata": {},
   "outputs": [
    {
     "name": "stdout",
     "output_type": "stream",
     "text": [
      "SimpleITK Version: 2.4.1 (ITK 5.4)\n",
      "Compiled: Jan  9 2025 14:48:38\n",
      "\n"
     ]
    }
   ],
   "source": [
    "import SimpleITK as sitk\n",
    "print(sitk.Version())"
   ]
  },
  {
   "cell_type": "code",
   "execution_count": null,
   "id": "9ef2d3f2-1270-49d2-aa3c-87b00af83867",
   "metadata": {},
   "outputs": [],
   "source": []
  }
 ],
 "metadata": {
  "kernelspec": {
   "display_name": "Python 3 (ipykernel)",
   "language": "python",
   "name": "python3"
  },
  "language_info": {
   "codemirror_mode": {
    "name": "ipython",
    "version": 3
   },
   "file_extension": ".py",
   "mimetype": "text/x-python",
   "name": "python",
   "nbconvert_exporter": "python",
   "pygments_lexer": "ipython3",
   "version": "3.12.3"
  }
 },
 "nbformat": 4,
 "nbformat_minor": 5
}
