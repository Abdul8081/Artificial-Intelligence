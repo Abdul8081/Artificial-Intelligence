{
 "cells": [
  {
   "cell_type": "code",
   "execution_count": 6,
   "id": "03708792-a3a0-4916-9804-16cbf0a05ced",
   "metadata": {},
   "outputs": [
    {
     "name": "stdout",
     "output_type": "stream",
     "text": [
      "-40.0   -40.0\n",
      "-39.0   -38.2\n",
      "-38.0   -36.400000000000006\n",
      "-37.0   -34.60000000000001\n",
      "-36.0   -32.8\n",
      "-35.0   -31.0\n",
      "-34.0   -29.200000000000003\n",
      "-33.0   -27.4\n",
      "-32.0   -25.6\n",
      "-31.0   -23.800000000000004\n",
      "-30.0   -22.0\n",
      "-29.0   -20.200000000000003\n",
      "-28.0   -18.4\n",
      "-27.0   -16.6\n",
      "-26.0   -14.800000000000004\n",
      "-25.0   -13.0\n",
      "-24.0   -11.200000000000003\n",
      "-23.0   -9.399999999999999\n",
      "-22.0   -7.600000000000001\n",
      "-21.0   -5.800000000000004\n",
      "-20.0   -4.0\n",
      "-19.0   -2.200000000000003\n",
      "-18.0   -0.3999999999999986\n",
      "-17.0   1.3999999999999986\n",
      "-16.0   3.1999999999999993\n",
      "-15.0   5.0\n",
      "-14.0   6.800000000000001\n",
      "-13.0   8.599999999999998\n",
      "-12.0   10.399999999999999\n",
      "-11.0   12.2\n",
      "-10.0   14.0\n",
      "-9.0   15.8\n",
      "-8.0   17.6\n",
      "-7.0   19.4\n",
      "-6.0   21.2\n",
      "-5.0   23.0\n",
      "-4.0   24.8\n",
      "-3.0   26.6\n",
      "-2.0   28.4\n",
      "-1.0   30.2\n",
      "0.0   32.0\n",
      "1.0   33.8\n",
      "2.0   35.6\n",
      "3.0   37.4\n",
      "4.0   39.2\n",
      "5.0   41.0\n",
      "6.0   42.8\n",
      "7.0   44.6\n",
      "8.0   46.4\n",
      "9.0   48.2\n",
      "10.0   50.0\n",
      "11.0   51.8\n",
      "12.0   53.6\n",
      "13.0   55.400000000000006\n",
      "14.0   57.2\n",
      "15.0   59.0\n",
      "16.0   60.8\n",
      "17.0   62.6\n",
      "18.0   64.4\n",
      "19.0   66.2\n",
      "20.0   68.0\n",
      "21.0   69.80000000000001\n",
      "22.0   71.6\n",
      "23.0   73.4\n",
      "24.0   75.2\n",
      "25.0   77.0\n",
      "26.0   78.80000000000001\n",
      "27.0   80.6\n",
      "28.0   82.4\n",
      "29.0   84.2\n",
      "30.0   86.0\n",
      "31.0   87.80000000000001\n",
      "32.0   89.6\n",
      "33.0   91.4\n",
      "34.0   93.2\n",
      "35.0   95.0\n",
      "36.0   96.8\n",
      "37.0   98.60000000000001\n"
     ]
    }
   ],
   "source": [
    "#Converting celcius to the farhenheigh\n",
    "\"\"\"\n",
    "F = 9*5C + 32\n",
    "\"\"\"\n",
    "\n",
    "C = -40.0\n",
    "while C<38:\n",
    "    F = (9./5) * C + 32\n",
    "    print(C,\" \", F)\n",
    "    C+=1"
   ]
  },
  {
   "cell_type": "code",
   "execution_count": 25,
   "id": "11cbd5ce-2d00-4dc2-aa85-c3e558f72291",
   "metadata": {},
   "outputs": [
    {
     "name": "stdin",
     "output_type": "stream",
     "text": [
      "Please Enter Year to check :  2001\n"
     ]
    },
    {
     "name": "stdout",
     "output_type": "stream",
     "text": [
      "2001 Not Leap Year\n"
     ]
    }
   ],
   "source": [
    "# Function for the checking of the leap year\n",
    "\"\"\"\n",
    "2024 : leap year\n",
    "1600 : leap year\n",
    "1700 : not leap year\n",
    "\"\"\"\n",
    "\n",
    "year = int(input(\"Please Enter Year to check : \"))\n",
    "\n",
    "def checkLeap(year):\n",
    "    if(year % 4 == 0 and year%100!=0) or (year%400==0) : print(f'{year} Leap Year')\n",
    "    else : print(f'{year} Not Leap Year')\n",
    "\n",
    "checkLeap(year)\n"
   ]
  },
  {
   "cell_type": "markdown",
   "id": "cdefa55f-409d-4f80-bbac-29f9be2d6905",
   "metadata": {},
   "source": [
    "# Classes and Object : Object Oriented Programming\n",
    "Methods : function, instances, and attributes are there for the classes. "
   ]
  },
  {
   "cell_type": "code",
   "execution_count": 24,
   "id": "9ea7a701-765d-4ef0-b42a-24cb3456b833",
   "metadata": {},
   "outputs": [
    {
     "name": "stdout",
     "output_type": "stream",
     "text": [
      "Distance between cell_one and cell_two is : 2.24\n"
     ]
    }
   ],
   "source": [
    "from math import sqrt\n",
    "class Cell:\n",
    "    def __init__(self, name, x, y):\n",
    "        self.name = name\n",
    "        self.x = x\n",
    "        self.y = y\n",
    "\n",
    "    def distance_between(self, other_cell):\n",
    "        return sqrt((self.x - other_cell.x)**2 + (self.y - other_cell.y)**2)\n",
    "\n",
    "cell_1 = Cell('cell_one', 0, 0)\n",
    "cell_2 = Cell('cell_two', 1, 2)\n",
    "cell_3 = Cell('cell_three', 2, 4)\n",
    "distance = cell_1.distance_between(cell_2)\n",
    "print('Distance between {} and {} is : {:.2f}'.format(cell_1.name, cell_2.name, cell_1.distance_between(cell_2)))\n"
   ]
  },
  {
   "cell_type": "code",
   "execution_count": null,
   "id": "028c288b-ab1e-4107-a46e-6c3ff1bce110",
   "metadata": {},
   "outputs": [],
   "source": []
  },
  {
   "cell_type": "code",
   "execution_count": null,
   "id": "55bad904-1982-4797-8747-d823356a5d79",
   "metadata": {},
   "outputs": [],
   "source": []
  }
 ],
 "metadata": {
  "kernelspec": {
   "display_name": "Python 3 (ipykernel)",
   "language": "python",
   "name": "python3"
  },
  "language_info": {
   "codemirror_mode": {
    "name": "ipython",
    "version": 3
   },
   "file_extension": ".py",
   "mimetype": "text/x-python",
   "name": "python",
   "nbconvert_exporter": "python",
   "pygments_lexer": "ipython3",
   "version": "3.12.3"
  }
 },
 "nbformat": 4,
 "nbformat_minor": 5
}
